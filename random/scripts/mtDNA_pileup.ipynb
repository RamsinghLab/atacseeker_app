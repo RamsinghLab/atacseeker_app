{
 "cells": [
  {
   "cell_type": "code",
   "execution_count": 7,
   "metadata": {
    "collapsed": true
   },
   "outputs": [],
   "source": [
    "import re"
   ]
  },
  {
   "cell_type": "code",
   "execution_count": 8,
   "metadata": {
    "collapsed": false
   },
   "outputs": [],
   "source": [
    "r=re.compile(\"#+\")\n",
    "r1=re.compile(\"\"\"\\^.{1}\"\"\")\n",
    "rr=re.compile(\"[\\+\\-]{1}[0-9]+\")"
   ]
  },
  {
   "cell_type": "code",
   "execution_count": 9,
   "metadata": {
    "collapsed": true
   },
   "outputs": [],
   "source": [
    "def normS(s,ref):\n",
    "    c=re.finditer(rr,s)\n",
    "    sl=list(s)\n",
    "    cc=[(x.start(),x.end()) for x in c]\n",
    "    for i in cc:\n",
    "        n=int(''.join(sl[i[0]+1:i[1]]))\n",
    "        sl[i[0]:i[1]+n]=['#' for xx in range(len(sl[i[0]:i[1]+n]))]\n",
    "    ns=''.join(sl)\n",
    "    ns=ns.replace('#','')\n",
    "    ss=''\n",
    "    for i in ns:\n",
    "        if i in '.,ACGTNacgtN<>*': ss+=i\n",
    "    return (ss.replace('.',ref)).replace(',',ref)"
   ]
  },
  {
   "cell_type": "code",
   "execution_count": 10,
   "metadata": {
    "collapsed": true
   },
   "outputs": [],
   "source": [
    "clev=0.75\n",
    "mqual=25\n",
    "cov=5"
   ]
  },
  {
   "cell_type": "code",
   "execution_count": 6,
   "metadata": {
    "collapsed": true
   },
   "outputs": [],
   "source": [
    "def nuc(seq):\n",
    "    d={'A':0,'C':0,'G':0,'T':0,'N':0}\n",
    "    for i in seq:\n",
    "        if d.has_key(i): d[i]+=1\n",
    "        else: d['N']+=1\n",
    "    return d"
   ]
  },
  {
   "cell_type": "code",
   "execution_count": 11,
   "metadata": {
    "collapsed": true
   },
   "outputs": [],
   "source": [
    "def freq(d):\n",
    "    f=[]\n",
    "    for i in d:\n",
    "        try: v=float(d[i])/sum(d.values())\n",
    "        except: v=0.0\n",
    "        f.append((v,i))\n",
    "    f.sort()\n",
    "    f.reverse()\n",
    "    maxv=[f[0]]\n",
    "    for i in f[1:]:\n",
    "        if i[0]==maxv[0][0]: maxv.append(i)\n",
    "    if len(maxv)==1:\n",
    "        if maxv[0][0]>=clev: return maxv[0][1]\n",
    "        else: return getIUPAC(f)\n",
    "    elif len(maxv)>1: return getIUPAC(f)"
   ]
  },
  {
   "cell_type": "code",
   "execution_count": 12,
   "metadata": {
    "collapsed": true
   },
   "outputs": [],
   "source": [
    "dIUPAC={'AG':'R','CT':'Y','GC':'S','AT':'W','GT':'K','AC':'M','CGT':'B','AGT':'D','ACT':'H','ACG':'V'}\n",
    "def getIUPAC(f):\n",
    "    vv=''.join([i[1] for i in f if i[0]>0])\n",
    "    k=ff(vv,dIUPAC.keys())\n",
    "    if k!=0: return dIUPAC[k]\n",
    "    else: return '#'"
   ]
  },
  {
   "cell_type": "code",
   "execution_count": 13,
   "metadata": {
    "collapsed": true
   },
   "outputs": [],
   "source": [
    "def ff(v,l):\n",
    "    for i in l:\n",
    "        x=0\n",
    "        for j in i:\n",
    "            if j in v: x+=1\n",
    "        if x==len(v): return i\n",
    "    return 0"
   ]
  },
  {
   "cell_type": "code",
   "execution_count": 48,
   "metadata": {
    "collapsed": true
   },
   "outputs": [],
   "source": [
    "f = open(\"/Users/asifzubair/projects/atacseeker_app/nativeApp/data/scratch/mtDNA_assembly/CAP1727A7-041814-4-S/chrM.CAP1727A7-041814-4-S.sorted.nodup.pileup\")"
   ]
  },
  {
   "cell_type": "code",
   "execution_count": 49,
   "metadata": {
    "collapsed": false
   },
   "outputs": [
    {
     "name": "stdout",
     "output_type": "stream",
     "text": [
      "['chrM', '16184', 'C', '0']\n",
      "chrM\t16184\tC\t0\t\t\n",
      "\n",
      "['chrM', '16184', 'C', '0']\n",
      "C * 1\n",
      "16184 #  {'A': 0, 'C': 0, 'T': 0, 'G': 0, 'N': 0}\n"
     ]
    }
   ],
   "source": [
    "for i in f:\n",
    "    if i.strip()=='': continue\n",
    "    l=(i.strip()).split('\\t')\n",
    "    if l[0]!='chrM': continue\n",
    "    pos=int(l[1])\n",
    "    try:\n",
    "        ref,seq,qual=l[2],normS(re.sub(r1,\"\",l[4]),l[2]),l[5]\n",
    "    except:\n",
    "        ref,seq,qual=l[2],'*',1\n",
    "        print l\n",
    "    if len(l) == 4:\n",
    "        print i\n",
    "        print l\n",
    "        print ref, seq, qual\n",
    "    s,q='',0\n",
    "    for j in range(len(seq)):\n",
    "        if seq[j] not in '<>*' and ord(qual[j])-33 >= mqual:\n",
    "            s+=seq[j].upper()\n",
    "            q+=(ord(qual[j])-33)\n",
    "    try: mq=float(q)/len(s)\n",
    "    except: mq=0.0\n",
    "    dnuc=nuc(s)\n",
    "    mfreq=freq(dnuc)\n",
    "    lnuc=(dnuc['A'],dnuc['C'],dnuc['G'],dnuc['T'])\n",
    "    cnuc='#'\n",
    "    if len(s) >= cov: cnuc=mfreq\n",
    "    if len(l) == 4:\n",
    "        print pos,cnuc,s,dnuc\n",
    "#    mtdna[pos][1][0]=cnuc\n",
    "#    mtdna[pos][1][1]=lnuc\n",
    "#    mtdna[pos][1][2]=len(s)\n",
    "#    mtdna[pos][1][3]=mq"
   ]
  },
  {
   "cell_type": "code",
   "execution_count": 67,
   "metadata": {
    "collapsed": false
   },
   "outputs": [],
   "source": [
    "i=\"chrM\\t16186\\tC\\t12\\t$$,$,.,,,,,,,^],\\tA1592222229.\""
   ]
  },
  {
   "cell_type": "code",
   "execution_count": 69,
   "metadata": {
    "collapsed": false
   },
   "outputs": [
    {
     "name": "stdout",
     "output_type": "stream",
     "text": [
      "16186 # C {'A': 0, 'C': 1, 'T': 0, 'G': 0, 'N': 0}\n"
     ]
    }
   ],
   "source": [
    "l=(i.strip()).split('\\t')\n",
    "pos=int(l[1])\n",
    "try:\n",
    "    ref,seq,qual=l[2],normS(re.sub(r1,\"\",l[4]),l[2]),l[5]\n",
    "except:\n",
    "    ref,seq,qual=l[2],'*',1\n",
    "    print l\n",
    "if len(l) == 4:\n",
    "    print i\n",
    "    print l\n",
    "    print ref, seq, qual\n",
    "s,q='',0\n",
    "for j in range(len(seq)):\n",
    "    if seq[j] not in '<>*' and ord(qual[j])-33 >= mqual:\n",
    "        s+=seq[j].upper()\n",
    "        q+=(ord(qual[j])-33)\n",
    "try: mq=float(q)/len(s)\n",
    "except: mq=0.0\n",
    "dnuc=nuc(s)\n",
    "mfreq=freq(dnuc)\n",
    "lnuc=(dnuc['A'],dnuc['C'],dnuc['G'],dnuc['T'])\n",
    "cnuc='#'\n",
    "if len(s) >= cov: cnuc=mfreq\n",
    "print pos,cnuc,s,dnuc"
   ]
  }
 ],
 "metadata": {
  "kernelspec": {
   "display_name": "Python 2",
   "language": "python",
   "name": "python2"
  },
  "language_info": {
   "codemirror_mode": {
    "name": "ipython",
    "version": 2
   },
   "file_extension": ".py",
   "mimetype": "text/x-python",
   "name": "python",
   "nbconvert_exporter": "python",
   "pygments_lexer": "ipython2",
   "version": "2.7.11"
  }
 },
 "nbformat": 4,
 "nbformat_minor": 0
}
